{
 "cells": [
  {
   "cell_type": "code",
   "execution_count": 1,
   "metadata": {},
   "outputs": [],
   "source": [
    "# module for hashing algorithm implementation\n",
    "import hashlib"
   ]
  },
  {
   "cell_type": "markdown",
   "metadata": {},
   "source": [
    "Server Side"
   ]
  },
  {
   "cell_type": "code",
   "execution_count": 2,
   "metadata": {},
   "outputs": [],
   "source": [
    "# at the server end \n",
    "# the untampered hashes of the original file ( actual values )\n",
    "# calculated once for every version\n",
    "origMD5 = \"DDE2D6E30D0B6A87EDC921CDA5B462FB\".lower()\n",
    "origSHA1 = \"F5CFCD595BB9BEA09BDCEB03CAFB8A80B30705D1\".lower()\n",
    "origSHA256 = \"5C2E1745D0D899CFE948E02DB0BA8F2BBBD34147F6A24F119C514F389A4F3A04\".lower()"
   ]
  },
  {
   "cell_type": "code",
   "execution_count": 3,
   "metadata": {},
   "outputs": [],
   "source": [
    "# function at server side to validate hashes\n",
    "def validateHashes(calMD5, calSHA1, calSHA256):\n",
    "    if( (origMD5 == calMD5) and (origSHA1 == calSHA1) and (origSHA256 == calSHA256) ) :\n",
    "        return True\n",
    "    return False"
   ]
  },
  {
   "cell_type": "markdown",
   "metadata": {},
   "source": [
    "Common data between Client and Server"
   ]
  },
  {
   "cell_type": "code",
   "execution_count": 4,
   "metadata": {},
   "outputs": [],
   "source": [
    "# defining block size \n",
    "# and functions for hash calculation ( can have multiple and different functions )\n",
    "# common for both client ans server side\n",
    "blockSize = 2**20\n",
    "md5 = hashlib.md5()\n",
    "sha1 = hashlib.sha1()\n",
    "sha256 = hashlib.sha256()"
   ]
  },
  {
   "cell_type": "markdown",
   "metadata": {},
   "source": [
    "Client Side Application"
   ]
  },
  {
   "cell_type": "code",
   "execution_count": 5,
   "metadata": {},
   "outputs": [],
   "source": [
    "# function calculating hash on client side\n",
    "def hashFile(inputFile):\n",
    "    \"\"\"\n",
    "    Calculate MD5, SHA1 and SHA256 hash of the file.\n",
    "    \"\"\"\n",
    "    with open(inputFile, 'rb') as clientCopy:\n",
    "         while True:\n",
    "            # read the file in block sizes\n",
    "            dataBlock = clientCopy.read(blockSize)\n",
    "            if not dataBlock:\n",
    "                break\n",
    "            md5.update(dataBlock)\n",
    "            sha1.update(dataBlock)\n",
    "            sha256.update(dataBlock)\n",
    "\n",
    "    return md5.hexdigest().lower(), sha1.hexdigest().lower(), sha256.hexdigest().lower()\n"
   ]
  },
  {
   "cell_type": "code",
   "execution_count": 13,
   "metadata": {},
   "outputs": [
    {
     "name": "stdout",
     "output_type": "stream",
     "text": [
      "Enter the filename: file.txt\n"
     ]
    }
   ],
   "source": [
    "# get file name client side\n",
    "inputFileName = input(\"Enter the filename: \")"
   ]
  },
  {
   "cell_type": "code",
   "execution_count": 14,
   "metadata": {},
   "outputs": [],
   "source": [
    "# function call to calculate hashes \n",
    "rawMD5, rawSHA1, rawSHA256 = hashFile(inputFileName)"
   ]
  },
  {
   "cell_type": "code",
   "execution_count": 15,
   "metadata": {},
   "outputs": [
    {
     "name": "stdout",
     "output_type": "stream",
     "text": [
      "Application is tampered!! Exit the application!!\n"
     ]
    }
   ],
   "source": [
    "if( validateHashes(rawMD5, rawSHA1, rawSHA256) ) :\n",
    "    print(\"Validation successful: Proceeding to startup...\")\n",
    "else :\n",
    "    print(\"Application is tampered!! Exit the application!!\")"
   ]
  },
  {
   "cell_type": "code",
   "execution_count": null,
   "metadata": {},
   "outputs": [],
   "source": []
  },
  {
   "cell_type": "code",
   "execution_count": null,
   "metadata": {},
   "outputs": [],
   "source": []
  },
  {
   "cell_type": "code",
   "execution_count": null,
   "metadata": {},
   "outputs": [],
   "source": []
  }
 ],
 "metadata": {
  "interpreter": {
   "hash": "b3ba2566441a7c06988d0923437866b63cedc61552a5af99d1f4fb67d367b25f"
  },
  "kernelspec": {
   "display_name": "Python 3 (ipykernel)",
   "language": "python",
   "name": "python3"
  },
  "language_info": {
   "codemirror_mode": {
    "name": "ipython",
    "version": 3
   },
   "file_extension": ".py",
   "mimetype": "text/x-python",
   "name": "python",
   "nbconvert_exporter": "python",
   "pygments_lexer": "ipython3",
   "version": "3.9.7"
  }
 },
 "nbformat": 4,
 "nbformat_minor": 2
}
